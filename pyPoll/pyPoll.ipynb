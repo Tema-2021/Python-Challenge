{
 "cells": [
  {
   "cell_type": "code",
   "execution_count": 1,
   "source": [
    "## import modules\r\n",
    "import os\r\n",
    "import csv"
   ],
   "outputs": [],
   "metadata": {}
  },
  {
   "cell_type": "code",
   "execution_count": 2,
   "source": [
    "## set/ define file path\r\n",
    "pyPoll_path = os.path.join(os.getcwd(), 'Resources', 'election_data.csv')"
   ],
   "outputs": [],
   "metadata": {}
  },
  {
   "cell_type": "code",
   "execution_count": 3,
   "source": [
    "pyPoll_path"
   ],
   "outputs": [
    {
     "output_type": "execute_result",
     "data": {
      "text/plain": [
       "'c:\\\\Users\\\\vaab2\\\\OneDrive\\\\Documents\\\\GitHub\\\\Python-Challenge\\\\pyPoll\\\\Resources\\\\election_data.csv'"
      ]
     },
     "metadata": {},
     "execution_count": 3
    }
   ],
   "metadata": {}
  },
  {
   "cell_type": "code",
   "execution_count": 4,
   "source": [
    "votes = 0\r\n",
    "vote_count = []\r\n",
    "candidates = []\r\n",
    "csvreader = ['1','2']\r\n",
    "#open csv file as a reader and determine the total number of votes cast\r\n",
    "with open (pyPoll_path,'r') as csvfile:\r\n",
    "    csvreader = csv.reader(csvfile, delimiter =',')\r\n",
    "    # from statistics import mean\r\n",
    "    #skip header\r\n",
    "    header = next(csvreader)           \r\n",
    "    for row in csvreader:\r\n",
    "        #Finding Total votes\r\n",
    "        votes = votes + 1\r\n",
    "        #finding votes per candidateCandidates\r\n",
    "        candidate = row[2]\r\n",
    "        #Votes per candidate\r\n",
    "        if candidate in candidates:\r\n",
    "           candidate_count = candidates.index(candidate)\r\n",
    "           vote_count[candidate_count] = vote_count[candidate_count] + 1\r\n",
    "        else:\r\n",
    "           candidates.append(candidate)\r\n",
    "           vote_count.append(1)        \r\n"
   ],
   "outputs": [],
   "metadata": {}
  },
  {
   "cell_type": "code",
   "execution_count": 5,
   "source": [
    "print(header)"
   ],
   "outputs": [
    {
     "output_type": "stream",
     "name": "stdout",
     "text": [
      "['Voter ID', 'County', 'Candidate']\n"
     ]
    }
   ],
   "metadata": {}
  },
  {
   "cell_type": "code",
   "execution_count": 6,
   "source": [
    "#finding the Percentages per vote per candidate\r\n",
    "percentages = []\r\n",
    "max_votes = vote_count[0]\r\n",
    "max_votes_index = 0\r\n",
    "for count in range(len(candidates)):\r\n",
    "    vote_percentage = vote_count[count]/votes*100\r\n",
    "    percentages.append(vote_percentage)\r\n",
    "    if vote_count[count] > max_votes:\r\n",
    "        print(max_votes)\r\n",
    "        max_votes_index = count\r\n",
    "    winner = candidates[max_votes_index]\r\n",
    "    percentages = [round (i,2) for i in percentages]\r\n"
   ],
   "outputs": [],
   "metadata": {}
  },
  {
   "cell_type": "code",
   "execution_count": 7,
   "source": [
    "#Print results           \r\n",
    "print()\r\n",
    "print(\"Election Results\")\r\n",
    "print(\"--------------------------------\")\r\n",
    "print(f\"Total Votes: {votes}\")\r\n",
    "print(\"--------------------------------\")\r\n",
    "for count in range(len(candidates)):\r\n",
    "    print(f\"{candidates[count]}: {percentages[count]}% ({vote_count[count]})\")\r\n",
    "print(\"--------------------------------\")\r\n",
    "print(f\"Winner:  {winner}\")\r\n",
    "print(\"--------------------------------\")\r\n",
    "#f.close()\r\n"
   ],
   "outputs": [
    {
     "output_type": "stream",
     "name": "stdout",
     "text": [
      "\n",
      "Election Results\n",
      "--------------------------------\n",
      "Total Votes: 3521001\n",
      "--------------------------------\n",
      "Khan: 63.0% (2218231)\n",
      "Correy: 20.0% (704200)\n",
      "Li: 14.0% (492940)\n",
      "O'Tooley: 3.0% (105630)\n",
      "--------------------------------\n",
      "Winner:  Khan\n",
      "--------------------------------\n"
     ]
    }
   ],
   "metadata": {}
  },
  {
   "cell_type": "code",
   "execution_count": 8,
   "source": [
    "# Specify file path to write file to\r\n",
    "election_output_path = os.path.join(os.getcwd(), 'Analysis', 'analysis.txt')"
   ],
   "outputs": [],
   "metadata": {}
  },
  {
   "cell_type": "code",
   "execution_count": 9,
   "source": [
    "print(election_output_path)"
   ],
   "outputs": [
    {
     "output_type": "stream",
     "name": "stdout",
     "text": [
      "c:\\Users\\vaab2\\OneDrive\\Documents\\GitHub\\Python-Challenge\\pyPoll\\Analysis\\analysis.txt\n"
     ]
    }
   ],
   "metadata": {}
  },
  {
   "cell_type": "code",
   "execution_count": 38,
   "source": [
    "# open the file in write mode\r\n",
    "with open(election_output_path, 'w') as csvfile:\r\n",
    "    #csvwriter= csv.writer(csvfile, delimiter =\",\")\r\n",
    "    # write in the lines\r\n",
    "    output_text = ''\r\n",
    "    output_text += \"Election Results\\n----------------\\n\"\r\n",
    "    output_text += f\"Total Votes: {votes}\\n------------------\\n\"\r\n",
    "    for count in range(len(candidates)):\r\n",
    "        output_text += f\"{candidates[count]}: {percentages[count]}% ({vote_count[count]})\\n\"\r\n",
    "    output_text += f\"Winner: {winner}\"\r\n",
    "    \r\n",
    "    csvfile.write(output_text)\r\n",
    "    # csvfile.write(output_text)\r\n",
    "    # csvwriter.writerow(\"Election Results\")\r\n",
    "    # csvwriter.writerow(f\"Total Votes: {votes}\")\r\n",
    "    # csvwriter.writerow(f\"{candidates[count]}: {percentages[count]}% ({vote_count[count]})\")\r\n",
    "    # csvwriter.writerow(f\"Winner:  {winner}\")\r\n"
   ],
   "outputs": [],
   "metadata": {}
  },
  {
   "cell_type": "code",
   "execution_count": null,
   "source": [],
   "outputs": [],
   "metadata": {}
  }
 ],
 "metadata": {
  "kernelspec": {
   "display_name": "Python 3",
   "language": "python",
   "name": "python3"
  },
  "language_info": {
   "codemirror_mode": {
    "name": "ipython",
    "version": 3
   },
   "file_extension": ".py",
   "mimetype": "text/x-python",
   "name": "python",
   "nbconvert_exporter": "python",
   "pygments_lexer": "ipython3",
   "version": "3.8.5"
  },
  "metadata": {
   "interpreter": {
    "hash": "c06ecb8de50cb2414ac45cc017d01f8fa8736973dfcdddd26f318d0e2b6c565d"
   }
  }
 },
 "nbformat": 4,
 "nbformat_minor": 4
}