{
 "cells": [
  {
   "cell_type": "code",
   "execution_count": 1,
   "metadata": {},
   "outputs": [],
   "source": [
    "## import modules\n",
    "import os\n",
    "import csv"
   ]
  },
  {
   "cell_type": "code",
   "execution_count": 2,
   "metadata": {},
   "outputs": [],
   "source": [
    "## set/ define file path\n",
    "pyPoll_path = os.path.join(os.getcwd(), 'Resources', 'election_data.csv')"
   ]
  },
  {
   "cell_type": "code",
   "execution_count": 3,
   "metadata": {},
   "outputs": [
    {
     "data": {
      "text/plain": [
       "'C:\\\\Users\\\\vaab2\\\\OneDrive\\\\Documents\\\\GitHub\\\\python-challenge_final\\\\pyPoll\\\\Resources\\\\election_data.csv'"
      ]
     },
     "execution_count": 3,
     "metadata": {},
     "output_type": "execute_result"
    }
   ],
   "source": [
    "pyPoll_path"
   ]
  },
  {
   "cell_type": "code",
   "execution_count": 4,
   "metadata": {},
   "outputs": [],
   "source": [
    "votes = 0\n",
    "vote_count = []\n",
    "candidates = []\n",
    "csvreader = ['1','2']\n",
    "#open csv file as a reader and determine the total number of votes cast\n",
    "with open (pyPoll_path,'r') as csvfile:\n",
    "    csvreader = csv.reader(csvfile, delimiter =',')\n",
    "    # from statistics import mean\n",
    "    #skip header\n",
    "    header = next(csvreader)           \n",
    "    for row in csvreader:\n",
    "        #Finding Total votes\n",
    "        votes = votes + 1\n",
    "        #finding votes per candidateCandidates\n",
    "        candidate = row[2]\n",
    "        #Votes per candidate\n",
    "        if candidate in candidates:\n",
    "           candidate_count = candidates.index(candidate)\n",
    "           vote_count[candidate_count] = vote_count[candidate_count] + 1\n",
    "        else:\n",
    "           candidates.append(candidate)\n",
    "           vote_count.append(1)        \n"
   ]
  },
  {
   "cell_type": "code",
   "execution_count": 5,
   "metadata": {},
   "outputs": [
    {
     "name": "stdout",
     "output_type": "stream",
     "text": [
      "['Voter ID', 'County', 'Candidate']\n"
     ]
    }
   ],
   "source": [
    "print(header)"
   ]
  },
  {
   "cell_type": "code",
   "execution_count": 6,
   "metadata": {},
   "outputs": [],
   "source": [
    "#finding the Percentages per vote per candidate\n",
    "percentages = []\n",
    "max_votes = vote_count[0]\n",
    "max_votes_index = 0\n",
    "for count in range(len(candidates)):\n",
    "    vote_percentage = vote_count[count]/votes*100\n",
    "    percentages.append(vote_percentage)\n",
    "    if vote_count[count] > max_votes:\n",
    "        print(max_votes)\n",
    "        max_votes_index = count\n",
    "    winner = candidates[max_votes_index]\n",
    "    percentages = [round (i,2) for i in percentages]\n"
   ]
  },
  {
   "cell_type": "code",
   "execution_count": 7,
   "metadata": {},
   "outputs": [
    {
     "name": "stdout",
     "output_type": "stream",
     "text": [
      "\n",
      "Election Results\n",
      "--------------------------------\n",
      "Total Votes: 3521001\n",
      "--------------------------------\n",
      "Khan: 63.0% (2218231)\n",
      "Correy: 20.0% (704200)\n",
      "Li: 14.0% (492940)\n",
      "O'Tooley: 3.0% (105630)\n",
      "--------------------------------\n",
      "Winner:  Khan\n",
      "--------------------------------\n"
     ]
    }
   ],
   "source": [
    "#Print results           \r\n",
    "print()\r\n",
    "print(\"Election Results\")\r\n",
    "print(\"--------------------------------\")\r\n",
    "print(f\"Total Votes: {votes}\")\r\n",
    "print(\"--------------------------------\")\r\n",
    "for count in range(len(candidates)):\r\n",
    "    print(f\"{candidates[count]}: {percentages[count]}% ({vote_count[count]})\")\r\n",
    "print(\"--------------------------------\")\r\n",
    "print(f\"Winner:  {winner}\")\r\n",
    "print(\"--------------------------------\")\r\n",
    "#f.close()\r\n"
   ]
  },
  {
   "cell_type": "code",
   "execution_count": 8,
   "metadata": {},
   "outputs": [],
   "source": [
    "# Specify file path to write file to\r\n",
    "election_output_path = os.path.join(os.getcwd(), 'Analysis', 'analysis.txt')"
   ]
  },
  {
   "cell_type": "code",
   "execution_count": 9,
   "metadata": {},
   "outputs": [
    {
     "name": "stdout",
     "output_type": "stream",
     "text": [
      "C:\\Users\\vaab2\\OneDrive\\Documents\\GitHub\\python-challenge_final\\pyPoll\\Analysis\\analysis.txt\n"
     ]
    }
   ],
   "source": [
    "print(election_output_path)"
   ]
  },
  {
   "cell_type": "code",
   "execution_count": 10,
   "metadata": {},
   "outputs": [],
   "source": [
    "# open the file in write mode\r\n",
    "with open(election_output_path, 'w') as csvfile:\r\n",
    "    csvwriter= csv.writer(csvfile, delimiter =\",\")\r\n",
    "    # write in the lines\r\n",
    "    csvwriter.writerow(\"Election Results\")\r\n",
    "    csvwriter.writerow(f\"Total Votes: {votes}\")\r\n",
    "    csvwriter.writerow(f\"{candidates[count]}: {percentages[count]}% ({vote_count[count]})\")\r\n",
    "    csvwriter.writerow(f\"Winner:  {winner}\")\r\n"
   ]
  },
  {
   "cell_type": "code",
   "execution_count": null,
   "metadata": {},
   "outputs": [],
   "source": []
  }
 ],
 "metadata": {
  "kernelspec": {
   "display_name": "Python 3",
   "language": "python",
   "name": "python3"
  },
  "language_info": {
   "codemirror_mode": {
    "name": "ipython",
    "version": 3
   },
   "file_extension": ".py",
   "mimetype": "text/x-python",
   "name": "python",
   "nbconvert_exporter": "python",
   "pygments_lexer": "ipython3",
   "version": "3.8.5"
  },
  "metadata": {
   "interpreter": {
    "hash": "c06ecb8de50cb2414ac45cc017d01f8fa8736973dfcdddd26f318d0e2b6c565d"
   }
  }
 },
 "nbformat": 4,
 "nbformat_minor": 4
}
